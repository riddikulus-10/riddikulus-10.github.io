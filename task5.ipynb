{
  "nbformat": 4,
  "nbformat_minor": 0,
  "metadata": {
    "colab": {
      "name": "task5.ipynb",
      "provenance": [],
      "collapsed_sections": []
    },
    "kernelspec": {
      "name": "python3",
      "display_name": "Python 3"
    }
  },
  "cells": [
    {
      "cell_type": "code",
      "metadata": {
        "id": "oqMYDB08W1zC",
        "colab_type": "code",
        "colab": {}
      },
      "source": [
        "import pandas as pd\n",
        "import matplotlib.pyplot as plt\n",
        "import numpy as np"
      ],
      "execution_count": null,
      "outputs": []
    },
    {
      "cell_type": "code",
      "metadata": {
        "id": "2zWPyjpQX0gR",
        "colab_type": "code",
        "colab": {}
      },
      "source": [
        "dataset = pd.read_csv('/content/sample_data/SampleSuperstore.csv')"
      ],
      "execution_count": null,
      "outputs": []
    },
    {
      "cell_type": "code",
      "metadata": {
        "id": "ZEvS00RGX_D0",
        "colab_type": "code",
        "colab": {
          "base_uri": "https://localhost:8080/",
          "height": 296
        },
        "outputId": "2cd97883-5335-49d8-e8a0-463f09201fab"
      },
      "source": [
        "dataset.head(5)"
      ],
      "execution_count": null,
      "outputs": [
        {
          "output_type": "execute_result",
          "data": {
            "text/html": [
              "<div>\n",
              "<style scoped>\n",
              "    .dataframe tbody tr th:only-of-type {\n",
              "        vertical-align: middle;\n",
              "    }\n",
              "\n",
              "    .dataframe tbody tr th {\n",
              "        vertical-align: top;\n",
              "    }\n",
              "\n",
              "    .dataframe thead th {\n",
              "        text-align: right;\n",
              "    }\n",
              "</style>\n",
              "<table border=\"1\" class=\"dataframe\">\n",
              "  <thead>\n",
              "    <tr style=\"text-align: right;\">\n",
              "      <th></th>\n",
              "      <th>Ship Mode</th>\n",
              "      <th>Segment</th>\n",
              "      <th>Country</th>\n",
              "      <th>City</th>\n",
              "      <th>State</th>\n",
              "      <th>Postal Code</th>\n",
              "      <th>Region</th>\n",
              "      <th>Category</th>\n",
              "      <th>Sub-Category</th>\n",
              "      <th>Sales</th>\n",
              "      <th>Quantity</th>\n",
              "      <th>Discount</th>\n",
              "      <th>Profit</th>\n",
              "    </tr>\n",
              "  </thead>\n",
              "  <tbody>\n",
              "    <tr>\n",
              "      <th>0</th>\n",
              "      <td>Second Class</td>\n",
              "      <td>Consumer</td>\n",
              "      <td>United States</td>\n",
              "      <td>Henderson</td>\n",
              "      <td>Kentucky</td>\n",
              "      <td>42420</td>\n",
              "      <td>South</td>\n",
              "      <td>Furniture</td>\n",
              "      <td>Bookcases</td>\n",
              "      <td>261.9600</td>\n",
              "      <td>2</td>\n",
              "      <td>0.00</td>\n",
              "      <td>41.9136</td>\n",
              "    </tr>\n",
              "    <tr>\n",
              "      <th>1</th>\n",
              "      <td>Second Class</td>\n",
              "      <td>Consumer</td>\n",
              "      <td>United States</td>\n",
              "      <td>Henderson</td>\n",
              "      <td>Kentucky</td>\n",
              "      <td>42420</td>\n",
              "      <td>South</td>\n",
              "      <td>Furniture</td>\n",
              "      <td>Chairs</td>\n",
              "      <td>731.9400</td>\n",
              "      <td>3</td>\n",
              "      <td>0.00</td>\n",
              "      <td>219.5820</td>\n",
              "    </tr>\n",
              "    <tr>\n",
              "      <th>2</th>\n",
              "      <td>Second Class</td>\n",
              "      <td>Corporate</td>\n",
              "      <td>United States</td>\n",
              "      <td>Los Angeles</td>\n",
              "      <td>California</td>\n",
              "      <td>90036</td>\n",
              "      <td>West</td>\n",
              "      <td>Office Supplies</td>\n",
              "      <td>Labels</td>\n",
              "      <td>14.6200</td>\n",
              "      <td>2</td>\n",
              "      <td>0.00</td>\n",
              "      <td>6.8714</td>\n",
              "    </tr>\n",
              "    <tr>\n",
              "      <th>3</th>\n",
              "      <td>Standard Class</td>\n",
              "      <td>Consumer</td>\n",
              "      <td>United States</td>\n",
              "      <td>Fort Lauderdale</td>\n",
              "      <td>Florida</td>\n",
              "      <td>33311</td>\n",
              "      <td>South</td>\n",
              "      <td>Furniture</td>\n",
              "      <td>Tables</td>\n",
              "      <td>957.5775</td>\n",
              "      <td>5</td>\n",
              "      <td>0.45</td>\n",
              "      <td>-383.0310</td>\n",
              "    </tr>\n",
              "    <tr>\n",
              "      <th>4</th>\n",
              "      <td>Standard Class</td>\n",
              "      <td>Consumer</td>\n",
              "      <td>United States</td>\n",
              "      <td>Fort Lauderdale</td>\n",
              "      <td>Florida</td>\n",
              "      <td>33311</td>\n",
              "      <td>South</td>\n",
              "      <td>Office Supplies</td>\n",
              "      <td>Storage</td>\n",
              "      <td>22.3680</td>\n",
              "      <td>2</td>\n",
              "      <td>0.20</td>\n",
              "      <td>2.5164</td>\n",
              "    </tr>\n",
              "  </tbody>\n",
              "</table>\n",
              "</div>"
            ],
            "text/plain": [
              "        Ship Mode    Segment        Country  ... Quantity Discount    Profit\n",
              "0    Second Class   Consumer  United States  ...        2     0.00   41.9136\n",
              "1    Second Class   Consumer  United States  ...        3     0.00  219.5820\n",
              "2    Second Class  Corporate  United States  ...        2     0.00    6.8714\n",
              "3  Standard Class   Consumer  United States  ...        5     0.45 -383.0310\n",
              "4  Standard Class   Consumer  United States  ...        2     0.20    2.5164\n",
              "\n",
              "[5 rows x 13 columns]"
            ]
          },
          "metadata": {
            "tags": []
          },
          "execution_count": 13
        }
      ]
    },
    {
      "cell_type": "code",
      "metadata": {
        "id": "QkAVC_22KGuG",
        "colab_type": "code",
        "colab": {
          "base_uri": "https://localhost:8080/",
          "height": 34
        },
        "outputId": "ca3ec09d-7a4e-49f8-906c-3d6a00cc816f"
      },
      "source": [
        "dataset.shape"
      ],
      "execution_count": null,
      "outputs": [
        {
          "output_type": "execute_result",
          "data": {
            "text/plain": [
              "(9994, 13)"
            ]
          },
          "metadata": {
            "tags": []
          },
          "execution_count": 14
        }
      ]
    },
    {
      "cell_type": "code",
      "metadata": {
        "id": "crYhPcBXYDVg",
        "colab_type": "code",
        "colab": {
          "base_uri": "https://localhost:8080/",
          "height": 353
        },
        "outputId": "61976631-5a35-405b-91b2-2dd88f1514b4"
      },
      "source": [
        "dataset.info()"
      ],
      "execution_count": null,
      "outputs": [
        {
          "output_type": "stream",
          "text": [
            "<class 'pandas.core.frame.DataFrame'>\n",
            "RangeIndex: 9994 entries, 0 to 9993\n",
            "Data columns (total 13 columns):\n",
            " #   Column        Non-Null Count  Dtype  \n",
            "---  ------        --------------  -----  \n",
            " 0   Ship Mode     9994 non-null   object \n",
            " 1   Segment       9994 non-null   object \n",
            " 2   Country       9994 non-null   object \n",
            " 3   City          9994 non-null   object \n",
            " 4   State         9994 non-null   object \n",
            " 5   Postal Code   9994 non-null   int64  \n",
            " 6   Region        9994 non-null   object \n",
            " 7   Category      9994 non-null   object \n",
            " 8   Sub-Category  9994 non-null   object \n",
            " 9   Sales         9994 non-null   float64\n",
            " 10  Quantity      9994 non-null   int64  \n",
            " 11  Discount      9994 non-null   float64\n",
            " 12  Profit        9994 non-null   float64\n",
            "dtypes: float64(3), int64(2), object(8)\n",
            "memory usage: 1015.1+ KB\n"
          ],
          "name": "stdout"
        }
      ]
    },
    {
      "cell_type": "code",
      "metadata": {
        "id": "tyA2l4uUKnuW",
        "colab_type": "code",
        "colab": {
          "base_uri": "https://localhost:8080/",
          "height": 34
        },
        "outputId": "0d50809e-6f2e-412c-81f3-2603e187b3c2"
      },
      "source": [
        "mode_list = dataset.groupby('Ship Mode')\n",
        "mode = [x for x,y in mode_list]\n",
        "mode"
      ],
      "execution_count": null,
      "outputs": [
        {
          "output_type": "execute_result",
          "data": {
            "text/plain": [
              "['First Class', 'Same Day', 'Second Class', 'Standard Class']"
            ]
          },
          "metadata": {
            "tags": []
          },
          "execution_count": 44
        }
      ]
    },
    {
      "cell_type": "code",
      "metadata": {
        "id": "90FDMbHDz_EY",
        "colab_type": "code",
        "colab": {}
      },
      "source": [
        "ship_mode = dataset.groupby('Ship Mode').sum()['Profit']"
      ],
      "execution_count": null,
      "outputs": []
    },
    {
      "cell_type": "markdown",
      "metadata": {
        "id": "ZT6e8-bo2ntj",
        "colab_type": "text"
      },
      "source": [
        "**Net Profit by Ship Modes** \n"
      ]
    },
    {
      "cell_type": "code",
      "metadata": {
        "id": "fi3tj76H0RkO",
        "colab_type": "code",
        "colab": {
          "base_uri": "https://localhost:8080/",
          "height": 265
        },
        "outputId": "0fef47a5-2818-4fa2-b0c3-d6ec9c002803"
      },
      "source": [
        "plt.bar(mode, ship_mode, color='red')\n",
        "plt.show()"
      ],
      "execution_count": null,
      "outputs": [
        {
          "output_type": "display_data",
          "data": {
            "image/png": "[encoded data removed]",
            "text/plain": [
              "<Figure size 432x288 with 1 Axes>"
            ]
          },
          "metadata": {
            "tags": [],
            "needs_background": "light"
          }
        }
      ]
    },
    {
      "cell_type": "code",
      "metadata": {
        "id": "ldwpSikI1aUC",
        "colab_type": "code",
        "colab": {}
      },
      "source": [
        "segment_list = dataset.groupby('Segment')"
      ],
      "execution_count": null,
      "outputs": []
    },
    {
      "cell_type": "code",
      "metadata": {
        "id": "q9w-g3dq3EMb",
        "colab_type": "code",
        "colab": {
          "base_uri": "https://localhost:8080/",
          "height": 34
        },
        "outputId": "72531502-a31d-400f-e14c-d8bef69f0fe7"
      },
      "source": [
        "segment = [x for x,y in segment_list]\n",
        "segment "
      ],
      "execution_count": null,
      "outputs": [
        {
          "output_type": "execute_result",
          "data": {
            "text/plain": [
              "['Consumer', 'Corporate', 'Home Office']"
            ]
          },
          "metadata": {
            "tags": []
          },
          "execution_count": 51
        }
      ]
    },
    {
      "cell_type": "code",
      "metadata": {
        "id": "c_Gik-7s3X5f",
        "colab_type": "code",
        "colab": {
          "base_uri": "https://localhost:8080/",
          "height": 101
        },
        "outputId": "3e5e9cc2-6251-4cff-bdce-c945f7d1214e"
      },
      "source": [
        "segment_data = dataset.groupby('Segment').sum()[\"Profit\"]\n",
        "segment_data"
      ],
      "execution_count": null,
      "outputs": [
        {
          "output_type": "execute_result",
          "data": {
            "text/plain": [
              "Segment\n",
              "Consumer       134119.2092\n",
              "Corporate       91979.1340\n",
              "Home Office     60298.6785\n",
              "Name: Profit, dtype: float64"
            ]
          },
          "metadata": {
            "tags": []
          },
          "execution_count": 53
        }
      ]
    },
    {
      "cell_type": "markdown",
      "metadata": {
        "id": "A1T_HLXe3rNp",
        "colab_type": "text"
      },
      "source": [
        "**Net Profit by different Segments**"
      ]
    },
    {
      "cell_type": "code",
      "metadata": {
        "id": "RsH4c4Vl3liq",
        "colab_type": "code",
        "colab": {
          "base_uri": "https://localhost:8080/",
          "height": 268
        },
        "outputId": "0e1c0231-68af-45c4-ae22-3fc80f18539e"
      },
      "source": [
        "plt.bar(segment, segment_data, color='red')\n",
        "plt.show()"
      ],
      "execution_count": null,
      "outputs": [
        {
          "output_type": "display_data",
          "data": {
            "image/png": "[encoded data removed]",
            "text/plain": [
              "<Figure size 432x288 with 1 Axes>"
            ]
          },
          "metadata": {
            "tags": [],
            "needs_background": "light"
          }
        }
      ]
    },
    {
      "cell_type": "markdown",
      "metadata": {
        "id": "RYCXIu_pTZg7",
        "colab_type": "text"
      },
      "source": [
        "**Net Profit and Loss by different States**"
      ]
    },
    {
      "cell_type": "code",
      "metadata": {
        "id": "Q32_yUI24RqH",
        "colab_type": "code",
        "colab": {}
      },
      "source": [
        "states = dataset.groupby('State')\n",
        "state_list = [x for x,y in states]"
      ],
      "execution_count": null,
      "outputs": []
    },
    {
      "cell_type": "code",
      "metadata": {
        "id": "Zd7M-C7k49eO",
        "colab_type": "code",
        "colab": {}
      },
      "source": [
        "state_data = dataset.groupby('State').sum()[\"Profit\"]"
      ],
      "execution_count": null,
      "outputs": []
    },
    {
      "cell_type": "code",
      "metadata": {
        "id": "vFDHtkqr5O83",
        "colab_type": "code",
        "colab": {
          "base_uri": "https://localhost:8080/",
          "height": 355
        },
        "outputId": "ac9793cc-c6f7-4aef-dd7a-0e0615c76825"
      },
      "source": [
        "plt.bar(state_list, state_data, color='red', align='center',linewidth=2)\n",
        "plt.xticks(rotation=90)\n",
        "plt.show()"
      ],
      "execution_count": null,
      "outputs": [
        {
          "output_type": "display_data",
          "data": {
            "image/png": "[encoded data removed]",
            "text/plain": [
              "<Figure size 432x288 with 1 Axes>"
            ]
          },
          "metadata": {
            "tags": [],
            "needs_background": "light"
          }
        }
      ]
    },
    {
      "cell_type": "markdown",
      "metadata": {
        "id": "zEn-2ce059A9",
        "colab_type": "text"
      },
      "source": [
        "**Net Profit made by different Regions**"
      ]
    },
    {
      "cell_type": "code",
      "metadata": {
        "id": "GISmAVDE5csv",
        "colab_type": "code",
        "colab": {
          "base_uri": "https://localhost:8080/",
          "height": 34
        },
        "outputId": "a7a85ab1-2bbb-4ddf-a131-91d76e0b6140"
      },
      "source": [
        "region = dataset.groupby('Region')\n",
        "region_list = [x for x,y in region]\n",
        "region_list"
      ],
      "execution_count": null,
      "outputs": [
        {
          "output_type": "execute_result",
          "data": {
            "text/plain": [
              "['Central', 'East', 'South', 'West']"
            ]
          },
          "metadata": {
            "tags": []
          },
          "execution_count": 72
        }
      ]
    },
    {
      "cell_type": "code",
      "metadata": {
        "id": "s_1bSwyC506y",
        "colab_type": "code",
        "colab": {}
      },
      "source": [
        "region_data = dataset.groupby('Region').sum()['Profit']"
      ],
      "execution_count": null,
      "outputs": []
    },
    {
      "cell_type": "code",
      "metadata": {
        "id": "OCHf8k9Z6c3l",
        "colab_type": "code",
        "colab": {
          "base_uri": "https://localhost:8080/",
          "height": 265
        },
        "outputId": "91f5d468-52e9-443d-826d-684fc1b7b5e5"
      },
      "source": [
        "plt.bar(region_list, region_data, color='red')\n",
        "plt.show()"
      ],
      "execution_count": null,
      "outputs": [
        {
          "output_type": "display_data",
          "data": {
            "image/png": "[encoded data removed]",
            "text/plain": [
              "<Figure size 432x288 with 1 Axes>"
            ]
          },
          "metadata": {
            "tags": [],
            "needs_background": "light"
          }
        }
      ]
    },
    {
      "cell_type": "markdown",
      "metadata": {
        "id": "BbxJhXRN-uFN",
        "colab_type": "text"
      },
      "source": [
        "**Net Sales made by different categories**"
      ]
    },
    {
      "cell_type": "code",
      "metadata": {
        "id": "m2DFaFTc7GHc",
        "colab_type": "code",
        "colab": {
          "base_uri": "https://localhost:8080/",
          "height": 101
        },
        "outputId": "c37525f2-9b2a-4891-bacd-19098d260457"
      },
      "source": [
        "category_sales = dataset.groupby('Category').sum()['Sales']\n",
        "category_sales"
      ],
      "execution_count": null,
      "outputs": [
        {
          "output_type": "execute_result",
          "data": {
            "text/plain": [
              "Category\n",
              "Furniture          741999.7953\n",
              "Office Supplies    719047.0320\n",
              "Technology         836154.0330\n",
              "Name: Sales, dtype: float64"
            ]
          },
          "metadata": {
            "tags": []
          },
          "execution_count": 78
        }
      ]
    },
    {
      "cell_type": "code",
      "metadata": {
        "id": "NHE1Scjg7aSa",
        "colab_type": "code",
        "colab": {
          "base_uri": "https://localhost:8080/",
          "height": 248
        },
        "outputId": "d669ee9c-89cb-4556-ad3b-e055940dbb0d"
      },
      "source": [
        "category_sales.plot(kind='pie', autopct='%1.1f%%')\n",
        "plt.show()"
      ],
      "execution_count": null,
      "outputs": [
        {
          "output_type": "display_data",
          "data": {
            "image/png": "[encoded data removed]",
            "text/plain": [
              "<Figure size 432x288 with 1 Axes>"
            ]
          },
          "metadata": {
            "tags": []
          }
        }
      ]
    },
    {
      "cell_type": "markdown",
      "metadata": {
        "id": "fqAbI-_g-3s_",
        "colab_type": "text"
      },
      "source": [
        "**Net Sales made by different Sub-Category**"
      ]
    },
    {
      "cell_type": "code",
      "metadata": {
        "id": "rvXVwhp47mYG",
        "colab_type": "code",
        "colab": {}
      },
      "source": [
        "sub_category_list = dataset.groupby('Sub-Category').sum()['Sales']"
      ],
      "execution_count": null,
      "outputs": []
    },
    {
      "cell_type": "code",
      "metadata": {
        "id": "Ewwh72DU8qQf",
        "colab_type": "code",
        "colab": {
          "base_uri": "https://localhost:8080/",
          "height": 314
        },
        "outputId": "bad873f5-7249-4dd4-88e2-a05f7b20128d"
      },
      "source": [
        "sub_category = dataset.groupby('Sub-Category')\n",
        "sub_category_ = [x for x,y in sub_category]\n",
        "plt.bar(sub_category_, sub_category_list, color='red')\n",
        "plt.xticks(rotation=90)\n",
        "plt.grid()\n",
        "plt.show()"
      ],
      "execution_count": null,
      "outputs": [
        {
          "output_type": "display_data",
          "data": {
            "image/png": "[encoded data removed]",
            "text/plain": [
              "<Figure size 432x288 with 1 Axes>"
            ]
          },
          "metadata": {
            "tags": [],
            "needs_background": "light"
          }
        }
      ]
    },
    {
      "cell_type": "markdown",
      "metadata": {
        "id": "K8nOnp3dCYRm",
        "colab_type": "text"
      },
      "source": [
        "**Total loss made by a segment when they offered discount**"
      ]
    },
    {
      "cell_type": "code",
      "metadata": {
        "id": "aacXBn_QAIFC",
        "colab_type": "code",
        "colab": {
          "base_uri": "https://localhost:8080/",
          "height": 101
        },
        "outputId": "bfaff6cf-d813-4d29-bfd3-ff6e72b833ed"
      },
      "source": [
        "dataset.query('Profit<0 & Discount>0').groupby('Segment').sum()['Profit']"
      ],
      "execution_count": null,
      "outputs": [
        {
          "output_type": "execute_result",
          "data": {
            "text/plain": [
              "Segment\n",
              "Consumer      -84945.7112\n",
              "Corporate     -44787.2076\n",
              "Home Office   -26398.3669\n",
              "Name: Profit, dtype: float64"
            ]
          },
          "metadata": {
            "tags": []
          },
          "execution_count": 135
        }
      ]
    },
    {
      "cell_type": "markdown",
      "metadata": {
        "id": "B88Uy4wuFepn",
        "colab_type": "text"
      },
      "source": [
        "**Category and Sub-category which made lowest and highest profit**"
      ]
    },
    {
      "cell_type": "code",
      "metadata": {
        "id": "Hab7VtcrA2PP",
        "colab_type": "code",
        "colab": {
          "base_uri": "https://localhost:8080/",
          "height": 101
        },
        "outputId": "fb8a4691-eba6-4eb4-c698-7ed361efa278"
      },
      "source": [
        "cat = dataset.groupby('Category').sum()['Profit']\n",
        "cat.nlargest(n=1000)"
      ],
      "execution_count": null,
      "outputs": [
        {
          "output_type": "execute_result",
          "data": {
            "text/plain": [
              "Category\n",
              "Technology         145454.9481\n",
              "Office Supplies    122490.8008\n",
              "Furniture           18451.2728\n",
              "Name: Profit, dtype: float64"
            ]
          },
          "metadata": {
            "tags": []
          },
          "execution_count": 163
        }
      ]
    },
    {
      "cell_type": "code",
      "metadata": {
        "id": "ssBVF-scF2dH",
        "colab_type": "code",
        "colab": {
          "base_uri": "https://localhost:8080/",
          "height": 336
        },
        "outputId": "c6525a48-790c-4806-bbc7-02ae9a07a2af"
      },
      "source": [
        "sub_cat = dataset.groupby('Sub-Category').sum()['Profit']\n",
        "sub_cat.nlargest(n=1000)"
      ],
      "execution_count": null,
      "outputs": [
        {
          "output_type": "execute_result",
          "data": {
            "text/plain": [
              "Sub-Category\n",
              "Copiers        55617.8249\n",
              "Phones         44515.7306\n",
              "Accessories    41936.6357\n",
              "Paper          34053.5693\n",
              "Binders        30221.7633\n",
              "Chairs         26590.1663\n",
              "Storage        21278.8264\n",
              "Appliances     18138.0054\n",
              "Furnishings    13059.1436\n",
              "Envelopes       6964.1767\n",
              "Art             6527.7870\n",
              "Labels          5546.2540\n",
              "Machines        3384.7569\n",
              "Fasteners        949.5182\n",
              "Supplies       -1189.0995\n",
              "Bookcases      -3472.5560\n",
              "Tables        -17725.4811\n",
              "Name: Profit, dtype: float64"
            ]
          },
          "metadata": {
            "tags": []
          },
          "execution_count": 164
        }
      ]
    },
    {
      "cell_type": "markdown",
      "metadata": {
        "id": "WORBMlsiLCrL",
        "colab_type": "text"
      },
      "source": [
        "**Category and Sub-Category which was sold most and least in Quantity**"
      ]
    },
    {
      "cell_type": "code",
      "metadata": {
        "id": "b1WgTJ45K7c4",
        "colab_type": "code",
        "colab": {
          "base_uri": "https://localhost:8080/",
          "height": 101
        },
        "outputId": "77fc97c7-bfc0-499b-cad0-ba6f389b15b7"
      },
      "source": [
        "dataset.groupby('Category').sum()['Quantity'].nlargest(n=1000)"
      ],
      "execution_count": null,
      "outputs": [
        {
          "output_type": "execute_result",
          "data": {
            "text/plain": [
              "Category\n",
              "Office Supplies    22906\n",
              "Furniture           8028\n",
              "Technology          6939\n",
              "Name: Quantity, dtype: int64"
            ]
          },
          "metadata": {
            "tags": []
          },
          "execution_count": 166
        }
      ]
    },
    {
      "cell_type": "code",
      "metadata": {
        "id": "-LLVRDSmLb89",
        "colab_type": "code",
        "colab": {
          "base_uri": "https://localhost:8080/",
          "height": 336
        },
        "outputId": "d78ca0ab-e2e8-4906-af47-17d878fda556"
      },
      "source": [
        "dataset.groupby('Sub-Category').sum()['Quantity'].nlargest(n=1000)"
      ],
      "execution_count": null,
      "outputs": [
        {
          "output_type": "execute_result",
          "data": {
            "text/plain": [
              "Sub-Category\n",
              "Binders        5974\n",
              "Paper          5178\n",
              "Furnishings    3563\n",
              "Phones         3289\n",
              "Storage        3158\n",
              "Art            3000\n",
              "Accessories    2976\n",
              "Chairs         2356\n",
              "Appliances     1729\n",
              "Labels         1400\n",
              "Tables         1241\n",
              "Fasteners       914\n",
              "Envelopes       906\n",
              "Bookcases       868\n",
              "Supplies        647\n",
              "Machines        440\n",
              "Copiers         234\n",
              "Name: Quantity, dtype: int64"
            ]
          },
          "metadata": {
            "tags": []
          },
          "execution_count": 167
        }
      ]
    },
    {
      "cell_type": "markdown",
      "metadata": {
        "id": "pFGe9MIINCzd",
        "colab_type": "text"
      },
      "source": [
        "**City and State where highest and lowest sales were seen**"
      ]
    },
    {
      "cell_type": "code",
      "metadata": {
        "id": "zXOrsEdOMGiw",
        "colab_type": "code",
        "colab": {
          "base_uri": "https://localhost:8080/",
          "height": 235
        },
        "outputId": "c43c4035-690e-4e23-b019-e571a864e553"
      },
      "source": [
        "dataset.groupby('City').sum()['Sales'].nlargest(n=1000)"
      ],
      "execution_count": null,
      "outputs": [
        {
          "output_type": "execute_result",
          "data": {
            "text/plain": [
              "City\n",
              "New York City    256368.161\n",
              "Los Angeles      175851.341\n",
              "Seattle          119540.742\n",
              "San Francisco    112669.092\n",
              "Philadelphia     109077.013\n",
              "                    ...    \n",
              "Ormond Beach          2.808\n",
              "Pensacola             2.214\n",
              "Jupiter               2.064\n",
              "Elyria                1.824\n",
              "Abilene               1.392\n",
              "Name: Sales, Length: 531, dtype: float64"
            ]
          },
          "metadata": {
            "tags": []
          },
          "execution_count": 175
        }
      ]
    },
    {
      "cell_type": "code",
      "metadata": {
        "id": "0OL36AM6NYcN",
        "colab_type": "code",
        "colab": {
          "base_uri": "https://localhost:8080/",
          "height": 874
        },
        "outputId": "15770963-3507-4ca1-8c83-b3a0caf1c4a4"
      },
      "source": [
        "dataset.groupby('State').sum()['Sales'].nlargest(n=1000)"
      ],
      "execution_count": null,
      "outputs": [
        {
          "output_type": "execute_result",
          "data": {
            "text/plain": [
              "State\n",
              "California              457687.6315\n",
              "New York                310876.2710\n",
              "Texas                   170188.0458\n",
              "Washington              138641.2700\n",
              "Pennsylvania            116511.9140\n",
              "Florida                  89473.7080\n",
              "Illinois                 80166.1010\n",
              "Ohio                     78258.1360\n",
              "Michigan                 76269.6140\n",
              "Virginia                 70636.7200\n",
              "North Carolina           55603.1640\n",
              "Indiana                  53555.3600\n",
              "Georgia                  49095.8400\n",
              "Kentucky                 36591.7500\n",
              "New Jersey               35764.3120\n",
              "Arizona                  35282.0010\n",
              "Wisconsin                32114.6100\n",
              "Colorado                 32108.1180\n",
              "Tennessee                30661.8730\n",
              "Minnesota                29863.1500\n",
              "Massachusetts            28634.4340\n",
              "Delaware                 27451.0690\n",
              "Maryland                 23705.5230\n",
              "Rhode Island             22627.9560\n",
              "Missouri                 22205.1500\n",
              "Oklahoma                 19683.3900\n",
              "Alabama                  19510.6400\n",
              "Oregon                   17431.1500\n",
              "Nevada                   16729.1020\n",
              "Connecticut              13384.3570\n",
              "Arkansas                 11678.1300\n",
              "Utah                     11220.0560\n",
              "Mississippi              10771.3400\n",
              "Louisiana                 9217.0300\n",
              "Vermont                   8929.3700\n",
              "South Carolina            8481.7100\n",
              "Nebraska                  7464.9300\n",
              "New Hampshire             7292.5240\n",
              "Montana                   5589.3520\n",
              "New Mexico                4783.5220\n",
              "Iowa                      4579.7600\n",
              "Idaho                     4382.4860\n",
              "Kansas                    2914.3100\n",
              "District of Columbia      2865.0200\n",
              "Wyoming                   1603.1360\n",
              "South Dakota              1315.5600\n",
              "Maine                     1270.5300\n",
              "West Virginia             1209.8240\n",
              "North Dakota               919.9100\n",
              "Name: Sales, dtype: float64"
            ]
          },
          "metadata": {
            "tags": []
          },
          "execution_count": 179
        }
      ]
    },
    {
      "cell_type": "markdown",
      "metadata": {
        "id": "-Vk6K939Ol7l",
        "colab_type": "text"
      },
      "source": [
        "**Ship mode where sales were highest and lowest**"
      ]
    },
    {
      "cell_type": "code",
      "metadata": {
        "id": "w_hgTwFrOUrA",
        "colab_type": "code",
        "colab": {
          "base_uri": "https://localhost:8080/",
          "height": 372
        },
        "outputId": "820c0f93-c40f-4176-bdad-d2715dc39081"
      },
      "source": [
        "dataset.groupby('Ship Mode').sum()['Sales'].nlargest(n=1000).plot(kind='bar',color='red')"
      ],
      "execution_count": null,
      "outputs": [
        {
          "output_type": "execute_result",
          "data": {
            "text/plain": [
              "<matplotlib.axes._subplots.AxesSubplot at 0x7f542bf697b8>"
            ]
          },
          "metadata": {
            "tags": []
          },
          "execution_count": 184
        },
        {
          "output_type": "display_data",
          "data": {
            "image/png": "[encoded data removed]",
            "text/plain": [
              "<Figure size 432x288 with 1 Axes>"
            ]
          },
          "metadata": {
            "tags": [],
            "needs_background": "light"
          }
        }
      ]
    },
    {
      "cell_type": "code",
      "metadata": {
        "id": "FqhPUwm7O9fB",
        "colab_type": "code",
        "colab": {
          "base_uri": "https://localhost:8080/",
          "height": 296
        },
        "outputId": "1f82126b-7b80-41e6-9ca2-5ffeb6d260fe"
      },
      "source": [
        "dataset.head(5)"
      ],
      "execution_count": null,
      "outputs": [
        {
          "output_type": "execute_result",
          "data": {
            "text/html": [
              "<div>\n",
              "<style scoped>\n",
              "    .dataframe tbody tr th:only-of-type {\n",
              "        vertical-align: middle;\n",
              "    }\n",
              "\n",
              "    .dataframe tbody tr th {\n",
              "        vertical-align: top;\n",
              "    }\n",
              "\n",
              "    .dataframe thead th {\n",
              "        text-align: right;\n",
              "    }\n",
              "</style>\n",
              "<table border=\"1\" class=\"dataframe\">\n",
              "  <thead>\n",
              "    <tr style=\"text-align: right;\">\n",
              "      <th></th>\n",
              "      <th>Ship Mode</th>\n",
              "      <th>Segment</th>\n",
              "      <th>Country</th>\n",
              "      <th>City</th>\n",
              "      <th>State</th>\n",
              "      <th>Postal Code</th>\n",
              "      <th>Region</th>\n",
              "      <th>Category</th>\n",
              "      <th>Sub-Category</th>\n",
              "      <th>Sales</th>\n",
              "      <th>Quantity</th>\n",
              "      <th>Discount</th>\n",
              "      <th>Profit</th>\n",
              "    </tr>\n",
              "  </thead>\n",
              "  <tbody>\n",
              "    <tr>\n",
              "      <th>0</th>\n",
              "      <td>Second Class</td>\n",
              "      <td>Consumer</td>\n",
              "      <td>United States</td>\n",
              "      <td>Henderson</td>\n",
              "      <td>Kentucky</td>\n",
              "      <td>42420</td>\n",
              "      <td>South</td>\n",
              "      <td>Furniture</td>\n",
              "      <td>Bookcases</td>\n",
              "      <td>261.9600</td>\n",
              "      <td>2</td>\n",
              "      <td>0.00</td>\n",
              "      <td>41.9136</td>\n",
              "    </tr>\n",
              "    <tr>\n",
              "      <th>1</th>\n",
              "      <td>Second Class</td>\n",
              "      <td>Consumer</td>\n",
              "      <td>United States</td>\n",
              "      <td>Henderson</td>\n",
              "      <td>Kentucky</td>\n",
              "      <td>42420</td>\n",
              "      <td>South</td>\n",
              "      <td>Furniture</td>\n",
              "      <td>Chairs</td>\n",
              "      <td>731.9400</td>\n",
              "      <td>3</td>\n",
              "      <td>0.00</td>\n",
              "      <td>219.5820</td>\n",
              "    </tr>\n",
              "    <tr>\n",
              "      <th>2</th>\n",
              "      <td>Second Class</td>\n",
              "      <td>Corporate</td>\n",
              "      <td>United States</td>\n",
              "      <td>Los Angeles</td>\n",
              "      <td>California</td>\n",
              "      <td>90036</td>\n",
              "      <td>West</td>\n",
              "      <td>Office Supplies</td>\n",
              "      <td>Labels</td>\n",
              "      <td>14.6200</td>\n",
              "      <td>2</td>\n",
              "      <td>0.00</td>\n",
              "      <td>6.8714</td>\n",
              "    </tr>\n",
              "    <tr>\n",
              "      <th>3</th>\n",
              "      <td>Standard Class</td>\n",
              "      <td>Consumer</td>\n",
              "      <td>United States</td>\n",
              "      <td>Fort Lauderdale</td>\n",
              "      <td>Florida</td>\n",
              "      <td>33311</td>\n",
              "      <td>South</td>\n",
              "      <td>Furniture</td>\n",
              "      <td>Tables</td>\n",
              "      <td>957.5775</td>\n",
              "      <td>5</td>\n",
              "      <td>0.45</td>\n",
              "      <td>-383.0310</td>\n",
              "    </tr>\n",
              "    <tr>\n",
              "      <th>4</th>\n",
              "      <td>Standard Class</td>\n",
              "      <td>Consumer</td>\n",
              "      <td>United States</td>\n",
              "      <td>Fort Lauderdale</td>\n",
              "      <td>Florida</td>\n",
              "      <td>33311</td>\n",
              "      <td>South</td>\n",
              "      <td>Office Supplies</td>\n",
              "      <td>Storage</td>\n",
              "      <td>22.3680</td>\n",
              "      <td>2</td>\n",
              "      <td>0.20</td>\n",
              "      <td>2.5164</td>\n",
              "    </tr>\n",
              "  </tbody>\n",
              "</table>\n",
              "</div>"
            ],
            "text/plain": [
              "        Ship Mode    Segment        Country  ... Quantity Discount    Profit\n",
              "0    Second Class   Consumer  United States  ...        2     0.00   41.9136\n",
              "1    Second Class   Consumer  United States  ...        3     0.00  219.5820\n",
              "2    Second Class  Corporate  United States  ...        2     0.00    6.8714\n",
              "3  Standard Class   Consumer  United States  ...        5     0.45 -383.0310\n",
              "4  Standard Class   Consumer  United States  ...        2     0.20    2.5164\n",
              "\n",
              "[5 rows x 13 columns]"
            ]
          },
          "metadata": {
            "tags": []
          },
          "execution_count": 185
        }
      ]
    },
    {
      "cell_type": "markdown",
      "metadata": {
        "id": "K0v-r4nrP-Rt",
        "colab_type": "text"
      },
      "source": [
        "**Cities which didn't offer discount and were at loss**"
      ]
    },
    {
      "cell_type": "code",
      "metadata": {
        "id": "HAtPpQqDPqqb",
        "colab_type": "code",
        "colab": {
          "base_uri": "https://localhost:8080/",
          "height": 34
        },
        "outputId": "bb939695-6b19-48d8-9171-aabdcaa28063"
      },
      "source": [
        "dataset.query(\"Discount==0 & Profit<0\").count()['Postal Code']"
      ],
      "execution_count": null,
      "outputs": [
        {
          "output_type": "execute_result",
          "data": {
            "text/plain": [
              "0"
            ]
          },
          "metadata": {
            "tags": []
          },
          "execution_count": 191
        }
      ]
    },
    {
      "cell_type": "markdown",
      "metadata": {
        "id": "YiPysfmrx6uZ",
        "colab_type": "text"
      },
      "source": [
        "**Data where Minimum sales occurred**"
      ]
    },
    {
      "cell_type": "code",
      "metadata": {
        "id": "aki8SzN-QQEm",
        "colab_type": "code",
        "colab": {
          "base_uri": "https://localhost:8080/",
          "height": 77
        },
        "outputId": "a7572872-debe-459f-8d77-0d0dd344ef62"
      },
      "source": [
        "dataset[dataset['Sales']==dataset.min()['Sales']]"
      ],
      "execution_count": null,
      "outputs": [
        {
          "output_type": "execute_result",
          "data": {
            "text/html": [
              "<div>\n",
              "<style scoped>\n",
              "    .dataframe tbody tr th:only-of-type {\n",
              "        vertical-align: middle;\n",
              "    }\n",
              "\n",
              "    .dataframe tbody tr th {\n",
              "        vertical-align: top;\n",
              "    }\n",
              "\n",
              "    .dataframe thead th {\n",
              "        text-align: right;\n",
              "    }\n",
              "</style>\n",
              "<table border=\"1\" class=\"dataframe\">\n",
              "  <thead>\n",
              "    <tr style=\"text-align: right;\">\n",
              "      <th></th>\n",
              "      <th>Ship Mode</th>\n",
              "      <th>Segment</th>\n",
              "      <th>Country</th>\n",
              "      <th>City</th>\n",
              "      <th>State</th>\n",
              "      <th>Postal Code</th>\n",
              "      <th>Region</th>\n",
              "      <th>Category</th>\n",
              "      <th>Sub-Category</th>\n",
              "      <th>Sales</th>\n",
              "      <th>Quantity</th>\n",
              "      <th>Discount</th>\n",
              "      <th>Profit</th>\n",
              "    </tr>\n",
              "  </thead>\n",
              "  <tbody>\n",
              "    <tr>\n",
              "      <th>4101</th>\n",
              "      <td>Standard Class</td>\n",
              "      <td>Consumer</td>\n",
              "      <td>United States</td>\n",
              "      <td>Houston</td>\n",
              "      <td>Texas</td>\n",
              "      <td>77095</td>\n",
              "      <td>Central</td>\n",
              "      <td>Office Supplies</td>\n",
              "      <td>Appliances</td>\n",
              "      <td>0.444</td>\n",
              "      <td>1</td>\n",
              "      <td>0.8</td>\n",
              "      <td>-1.11</td>\n",
              "    </tr>\n",
              "  </tbody>\n",
              "</table>\n",
              "</div>"
            ],
            "text/plain": [
              "           Ship Mode   Segment        Country  ... Quantity Discount  Profit\n",
              "4101  Standard Class  Consumer  United States  ...        1      0.8   -1.11\n",
              "\n",
              "[1 rows x 13 columns]"
            ]
          },
          "metadata": {
            "tags": []
          },
          "execution_count": 195
        }
      ]
    },
    {
      "cell_type": "markdown",
      "metadata": {
        "id": "s2MiTgGXyIlR",
        "colab_type": "text"
      },
      "source": [
        "**Data where Maximun sales occurred**"
      ]
    },
    {
      "cell_type": "code",
      "metadata": {
        "id": "j4JqdXPSR63T",
        "colab_type": "code",
        "colab": {
          "base_uri": "https://localhost:8080/",
          "height": 110
        },
        "outputId": "f2b581cc-637a-4c19-eae3-d2a2b06f41fc"
      },
      "source": [
        "dataset[dataset['Sales']==dataset.max()['Sales']]"
      ],
      "execution_count": null,
      "outputs": [
        {
          "output_type": "execute_result",
          "data": {
            "text/html": [
              "<div>\n",
              "<style scoped>\n",
              "    .dataframe tbody tr th:only-of-type {\n",
              "        vertical-align: middle;\n",
              "    }\n",
              "\n",
              "    .dataframe tbody tr th {\n",
              "        vertical-align: top;\n",
              "    }\n",
              "\n",
              "    .dataframe thead th {\n",
              "        text-align: right;\n",
              "    }\n",
              "</style>\n",
              "<table border=\"1\" class=\"dataframe\">\n",
              "  <thead>\n",
              "    <tr style=\"text-align: right;\">\n",
              "      <th></th>\n",
              "      <th>Ship Mode</th>\n",
              "      <th>Segment</th>\n",
              "      <th>Country</th>\n",
              "      <th>City</th>\n",
              "      <th>State</th>\n",
              "      <th>Postal Code</th>\n",
              "      <th>Region</th>\n",
              "      <th>Category</th>\n",
              "      <th>Sub-Category</th>\n",
              "      <th>Sales</th>\n",
              "      <th>Quantity</th>\n",
              "      <th>Discount</th>\n",
              "      <th>Profit</th>\n",
              "    </tr>\n",
              "  </thead>\n",
              "  <tbody>\n",
              "    <tr>\n",
              "      <th>2697</th>\n",
              "      <td>Standard Class</td>\n",
              "      <td>Home Office</td>\n",
              "      <td>United States</td>\n",
              "      <td>Jacksonville</td>\n",
              "      <td>Florida</td>\n",
              "      <td>32216</td>\n",
              "      <td>South</td>\n",
              "      <td>Technology</td>\n",
              "      <td>Machines</td>\n",
              "      <td>22638.48</td>\n",
              "      <td>6</td>\n",
              "      <td>0.5</td>\n",
              "      <td>-1811.0784</td>\n",
              "    </tr>\n",
              "  </tbody>\n",
              "</table>\n",
              "</div>"
            ],
            "text/plain": [
              "           Ship Mode      Segment        Country  ... Quantity Discount     Profit\n",
              "2697  Standard Class  Home Office  United States  ...        6      0.5 -1811.0784\n",
              "\n",
              "[1 rows x 13 columns]"
            ]
          },
          "metadata": {
            "tags": []
          },
          "execution_count": 197
        }
      ]
    },
    {
      "cell_type": "markdown",
      "metadata": {
        "id": "zSB4YI1uyORj",
        "colab_type": "text"
      },
      "source": [
        "**Data with Minimum  profit**"
      ]
    },
    {
      "cell_type": "code",
      "metadata": {
        "id": "EjZpL4wCSeWw",
        "colab_type": "code",
        "colab": {
          "base_uri": "https://localhost:8080/",
          "height": 110
        },
        "outputId": "b2b4e83f-dec2-4aee-a13f-b38c0788b4ac"
      },
      "source": [
        "dataset[dataset['Profit']==dataset.min()['Profit']]"
      ],
      "execution_count": null,
      "outputs": [
        {
          "output_type": "execute_result",
          "data": {
            "text/html": [
              "<div>\n",
              "<style scoped>\n",
              "    .dataframe tbody tr th:only-of-type {\n",
              "        vertical-align: middle;\n",
              "    }\n",
              "\n",
              "    .dataframe tbody tr th {\n",
              "        vertical-align: top;\n",
              "    }\n",
              "\n",
              "    .dataframe thead th {\n",
              "        text-align: right;\n",
              "    }\n",
              "</style>\n",
              "<table border=\"1\" class=\"dataframe\">\n",
              "  <thead>\n",
              "    <tr style=\"text-align: right;\">\n",
              "      <th></th>\n",
              "      <th>Ship Mode</th>\n",
              "      <th>Segment</th>\n",
              "      <th>Country</th>\n",
              "      <th>City</th>\n",
              "      <th>State</th>\n",
              "      <th>Postal Code</th>\n",
              "      <th>Region</th>\n",
              "      <th>Category</th>\n",
              "      <th>Sub-Category</th>\n",
              "      <th>Sales</th>\n",
              "      <th>Quantity</th>\n",
              "      <th>Discount</th>\n",
              "      <th>Profit</th>\n",
              "    </tr>\n",
              "  </thead>\n",
              "  <tbody>\n",
              "    <tr>\n",
              "      <th>7772</th>\n",
              "      <td>Standard Class</td>\n",
              "      <td>Consumer</td>\n",
              "      <td>United States</td>\n",
              "      <td>Lancaster</td>\n",
              "      <td>Ohio</td>\n",
              "      <td>43130</td>\n",
              "      <td>East</td>\n",
              "      <td>Technology</td>\n",
              "      <td>Machines</td>\n",
              "      <td>4499.985</td>\n",
              "      <td>5</td>\n",
              "      <td>0.7</td>\n",
              "      <td>-6599.978</td>\n",
              "    </tr>\n",
              "  </tbody>\n",
              "</table>\n",
              "</div>"
            ],
            "text/plain": [
              "           Ship Mode   Segment        Country  ... Quantity Discount    Profit\n",
              "7772  Standard Class  Consumer  United States  ...        5      0.7 -6599.978\n",
              "\n",
              "[1 rows x 13 columns]"
            ]
          },
          "metadata": {
            "tags": []
          },
          "execution_count": 198
        }
      ]
    },
    {
      "cell_type": "markdown",
      "metadata": {
        "id": "Hs7y4qsLyWRe",
        "colab_type": "text"
      },
      "source": [
        "**Data with Maximum profit**"
      ]
    },
    {
      "cell_type": "code",
      "metadata": {
        "id": "_CBQRB8hSs3m",
        "colab_type": "code",
        "colab": {
          "base_uri": "https://localhost:8080/",
          "height": 77
        },
        "outputId": "571da6e1-16ce-4916-c5ff-c00d022c7d9a"
      },
      "source": [
        "dataset[dataset['Profit']==dataset.max()['Profit']]"
      ],
      "execution_count": null,
      "outputs": [
        {
          "output_type": "execute_result",
          "data": {
            "text/html": [
              "<div>\n",
              "<style scoped>\n",
              "    .dataframe tbody tr th:only-of-type {\n",
              "        vertical-align: middle;\n",
              "    }\n",
              "\n",
              "    .dataframe tbody tr th {\n",
              "        vertical-align: top;\n",
              "    }\n",
              "\n",
              "    .dataframe thead th {\n",
              "        text-align: right;\n",
              "    }\n",
              "</style>\n",
              "<table border=\"1\" class=\"dataframe\">\n",
              "  <thead>\n",
              "    <tr style=\"text-align: right;\">\n",
              "      <th></th>\n",
              "      <th>Ship Mode</th>\n",
              "      <th>Segment</th>\n",
              "      <th>Country</th>\n",
              "      <th>City</th>\n",
              "      <th>State</th>\n",
              "      <th>Postal Code</th>\n",
              "      <th>Region</th>\n",
              "      <th>Category</th>\n",
              "      <th>Sub-Category</th>\n",
              "      <th>Sales</th>\n",
              "      <th>Quantity</th>\n",
              "      <th>Discount</th>\n",
              "      <th>Profit</th>\n",
              "    </tr>\n",
              "  </thead>\n",
              "  <tbody>\n",
              "    <tr>\n",
              "      <th>6826</th>\n",
              "      <td>Standard Class</td>\n",
              "      <td>Corporate</td>\n",
              "      <td>United States</td>\n",
              "      <td>Lafayette</td>\n",
              "      <td>Indiana</td>\n",
              "      <td>47905</td>\n",
              "      <td>Central</td>\n",
              "      <td>Technology</td>\n",
              "      <td>Copiers</td>\n",
              "      <td>17499.95</td>\n",
              "      <td>5</td>\n",
              "      <td>0.0</td>\n",
              "      <td>8399.976</td>\n",
              "    </tr>\n",
              "  </tbody>\n",
              "</table>\n",
              "</div>"
            ],
            "text/plain": [
              "           Ship Mode    Segment        Country  ... Quantity Discount    Profit\n",
              "6826  Standard Class  Corporate  United States  ...        5      0.0  8399.976\n",
              "\n",
              "[1 rows x 13 columns]"
            ]
          },
          "metadata": {
            "tags": []
          },
          "execution_count": 199
        }
      ]
    },
    {
      "cell_type": "markdown",
      "metadata": {
        "id": "82NinDujyc9_",
        "colab_type": "text"
      },
      "source": [
        "**Category and Region wise dataset**"
      ]
    },
    {
      "cell_type": "code",
      "metadata": {
        "id": "NZ9DqnQ7SutK",
        "colab_type": "code",
        "colab": {
          "base_uri": "https://localhost:8080/",
          "height": 252
        },
        "outputId": "77065144-3988-4d71-c808-7719e7218df7"
      },
      "source": [
        "dataset.groupby(['Region', 'Category']).count()['Postal Code']"
      ],
      "execution_count": null,
      "outputs": [
        {
          "output_type": "execute_result",
          "data": {
            "text/plain": [
              "Region   Category       \n",
              "Central  Furniture           481\n",
              "         Office Supplies    1422\n",
              "         Technology          420\n",
              "East     Furniture           601\n",
              "         Office Supplies    1712\n",
              "         Technology          535\n",
              "South    Furniture           332\n",
              "         Office Supplies     995\n",
              "         Technology          293\n",
              "West     Furniture           707\n",
              "         Office Supplies    1897\n",
              "         Technology          599\n",
              "Name: Postal Code, dtype: int64"
            ]
          },
          "metadata": {
            "tags": []
          },
          "execution_count": 216
        }
      ]
    },
    {
      "cell_type": "code",
      "metadata": {
        "id": "CYm3GS9cVWdi",
        "colab_type": "code",
        "colab": {
          "base_uri": "https://localhost:8080/",
          "height": 166
        },
        "outputId": "8c1ac159-f512-4fc9-c36e-2572d32a0129"
      },
      "source": [
        "unstacked_sales = dataset.groupby(['Region', 'Category']).count()['Postal Code'].unstack(level=0)\n",
        "unstacked_sales"
      ],
      "execution_count": null,
      "outputs": [
        {
          "output_type": "execute_result",
          "data": {
            "text/html": [
              "<div>\n",
              "<style scoped>\n",
              "    .dataframe tbody tr th:only-of-type {\n",
              "        vertical-align: middle;\n",
              "    }\n",
              "\n",
              "    .dataframe tbody tr th {\n",
              "        vertical-align: top;\n",
              "    }\n",
              "\n",
              "    .dataframe thead th {\n",
              "        text-align: right;\n",
              "    }\n",
              "</style>\n",
              "<table border=\"1\" class=\"dataframe\">\n",
              "  <thead>\n",
              "    <tr style=\"text-align: right;\">\n",
              "      <th>Region</th>\n",
              "      <th>Central</th>\n",
              "      <th>East</th>\n",
              "      <th>South</th>\n",
              "      <th>West</th>\n",
              "    </tr>\n",
              "    <tr>\n",
              "      <th>Category</th>\n",
              "      <th></th>\n",
              "      <th></th>\n",
              "      <th></th>\n",
              "      <th></th>\n",
              "    </tr>\n",
              "  </thead>\n",
              "  <tbody>\n",
              "    <tr>\n",
              "      <th>Furniture</th>\n",
              "      <td>481</td>\n",
              "      <td>601</td>\n",
              "      <td>332</td>\n",
              "      <td>707</td>\n",
              "    </tr>\n",
              "    <tr>\n",
              "      <th>Office Supplies</th>\n",
              "      <td>1422</td>\n",
              "      <td>1712</td>\n",
              "      <td>995</td>\n",
              "      <td>1897</td>\n",
              "    </tr>\n",
              "    <tr>\n",
              "      <th>Technology</th>\n",
              "      <td>420</td>\n",
              "      <td>535</td>\n",
              "      <td>293</td>\n",
              "      <td>599</td>\n",
              "    </tr>\n",
              "  </tbody>\n",
              "</table>\n",
              "</div>"
            ],
            "text/plain": [
              "Region           Central  East  South  West\n",
              "Category                                   \n",
              "Furniture            481   601    332   707\n",
              "Office Supplies     1422  1712    995  1897\n",
              "Technology           420   535    293   599"
            ]
          },
          "metadata": {
            "tags": []
          },
          "execution_count": 217
        }
      ]
    },
    {
      "cell_type": "markdown",
      "metadata": {
        "id": "GQyE6pZryqrL",
        "colab_type": "text"
      },
      "source": [
        "**Category and State wise dataset**"
      ]
    },
    {
      "cell_type": "code",
      "metadata": {
        "id": "C0q6s1IYV39G",
        "colab_type": "code",
        "colab": {
          "base_uri": "https://localhost:8080/",
          "height": 235
        },
        "outputId": "f729d7e6-1e79-485e-8e56-ec42047321e5"
      },
      "source": [
        "dataset.groupby(['State', 'Category']).count()['Postal Code']"
      ],
      "execution_count": null,
      "outputs": [
        {
          "output_type": "execute_result",
          "data": {
            "text/plain": [
              "State          Category       \n",
              "Alabama        Furniture           11\n",
              "               Office Supplies     36\n",
              "               Technology          14\n",
              "Arizona        Furniture           49\n",
              "               Office Supplies    127\n",
              "                                 ... \n",
              "West Virginia  Office Supplies      3\n",
              "Wisconsin      Furniture           32\n",
              "               Office Supplies     53\n",
              "               Technology          25\n",
              "Wyoming        Furniture            1\n",
              "Name: Postal Code, Length: 142, dtype: int64"
            ]
          },
          "metadata": {
            "tags": []
          },
          "execution_count": 218
        }
      ]
    },
    {
      "cell_type": "code",
      "metadata": {
        "id": "x_OckYGaWG3I",
        "colab_type": "code",
        "colab": {
          "base_uri": "https://localhost:8080/",
          "height": 1000
        },
        "outputId": "e598547e-bbde-4719-a2c7-c967e76a1b91"
      },
      "source": [
        "unstacked_sales_ = dataset.groupby(['Category', 'State']).count()['Postal Code'].unstack(level=0)\n",
        "unstacked_sales_"
      ],
      "execution_count": null,
      "outputs": [
        {
          "output_type": "execute_result",
          "data": {
            "text/html": [
              "<div>\n",
              "<style scoped>\n",
              "    .dataframe tbody tr th:only-of-type {\n",
              "        vertical-align: middle;\n",
              "    }\n",
              "\n",
              "    .dataframe tbody tr th {\n",
              "        vertical-align: top;\n",
              "    }\n",
              "\n",
              "    .dataframe thead th {\n",
              "        text-align: right;\n",
              "    }\n",
              "</style>\n",
              "<table border=\"1\" class=\"dataframe\">\n",
              "  <thead>\n",
              "    <tr style=\"text-align: right;\">\n",
              "      <th>Category</th>\n",
              "      <th>Furniture</th>\n",
              "      <th>Office Supplies</th>\n",
              "      <th>Technology</th>\n",
              "    </tr>\n",
              "    <tr>\n",
              "      <th>State</th>\n",
              "      <th></th>\n",
              "      <th></th>\n",
              "      <th></th>\n",
              "    </tr>\n",
              "  </thead>\n",
              "  <tbody>\n",
              "    <tr>\n",
              "      <th>Alabama</th>\n",
              "      <td>11.0</td>\n",
              "      <td>36.0</td>\n",
              "      <td>14.0</td>\n",
              "    </tr>\n",
              "    <tr>\n",
              "      <th>Arizona</th>\n",
              "      <td>49.0</td>\n",
              "      <td>127.0</td>\n",
              "      <td>48.0</td>\n",
              "    </tr>\n",
              "    <tr>\n",
              "      <th>Arkansas</th>\n",
              "      <td>9.0</td>\n",
              "      <td>36.0</td>\n",
              "      <td>15.0</td>\n",
              "    </tr>\n",
              "    <tr>\n",
              "      <th>California</th>\n",
              "      <td>444.0</td>\n",
              "      <td>1198.0</td>\n",
              "      <td>359.0</td>\n",
              "    </tr>\n",
              "    <tr>\n",
              "      <th>Colorado</th>\n",
              "      <td>51.0</td>\n",
              "      <td>96.0</td>\n",
              "      <td>35.0</td>\n",
              "    </tr>\n",
              "    <tr>\n",
              "      <th>Connecticut</th>\n",
              "      <td>13.0</td>\n",
              "      <td>58.0</td>\n",
              "      <td>11.0</td>\n",
              "    </tr>\n",
              "    <tr>\n",
              "      <th>Delaware</th>\n",
              "      <td>18.0</td>\n",
              "      <td>58.0</td>\n",
              "      <td>20.0</td>\n",
              "    </tr>\n",
              "    <tr>\n",
              "      <th>District of Columbia</th>\n",
              "      <td>3.0</td>\n",
              "      <td>6.0</td>\n",
              "      <td>1.0</td>\n",
              "    </tr>\n",
              "    <tr>\n",
              "      <th>Florida</th>\n",
              "      <td>85.0</td>\n",
              "      <td>229.0</td>\n",
              "      <td>69.0</td>\n",
              "    </tr>\n",
              "    <tr>\n",
              "      <th>Georgia</th>\n",
              "      <td>32.0</td>\n",
              "      <td>115.0</td>\n",
              "      <td>37.0</td>\n",
              "    </tr>\n",
              "    <tr>\n",
              "      <th>Idaho</th>\n",
              "      <td>6.0</td>\n",
              "      <td>11.0</td>\n",
              "      <td>4.0</td>\n",
              "    </tr>\n",
              "    <tr>\n",
              "      <th>Illinois</th>\n",
              "      <td>123.0</td>\n",
              "      <td>285.0</td>\n",
              "      <td>84.0</td>\n",
              "    </tr>\n",
              "    <tr>\n",
              "      <th>Indiana</th>\n",
              "      <td>23.0</td>\n",
              "      <td>97.0</td>\n",
              "      <td>29.0</td>\n",
              "    </tr>\n",
              "    <tr>\n",
              "      <th>Iowa</th>\n",
              "      <td>4.0</td>\n",
              "      <td>22.0</td>\n",
              "      <td>4.0</td>\n",
              "    </tr>\n",
              "    <tr>\n",
              "      <th>Kansas</th>\n",
              "      <td>2.0</td>\n",
              "      <td>17.0</td>\n",
              "      <td>5.0</td>\n",
              "    </tr>\n",
              "    <tr>\n",
              "      <th>Kentucky</th>\n",
              "      <td>30.0</td>\n",
              "      <td>86.0</td>\n",
              "      <td>23.0</td>\n",
              "    </tr>\n",
              "    <tr>\n",
              "      <th>Louisiana</th>\n",
              "      <td>11.0</td>\n",
              "      <td>20.0</td>\n",
              "      <td>11.0</td>\n",
              "    </tr>\n",
              "    <tr>\n",
              "      <th>Maine</th>\n",
              "      <td>1.0</td>\n",
              "      <td>4.0</td>\n",
              "      <td>3.0</td>\n",
              "    </tr>\n",
              "    <tr>\n",
              "      <th>Maryland</th>\n",
              "      <td>28.0</td>\n",
              "      <td>63.0</td>\n",
              "      <td>14.0</td>\n",
              "    </tr>\n",
              "    <tr>\n",
              "      <th>Massachusetts</th>\n",
              "      <td>33.0</td>\n",
              "      <td>83.0</td>\n",
              "      <td>19.0</td>\n",
              "    </tr>\n",
              "    <tr>\n",
              "      <th>Michigan</th>\n",
              "      <td>50.0</td>\n",
              "      <td>159.0</td>\n",
              "      <td>46.0</td>\n",
              "    </tr>\n",
              "    <tr>\n",
              "      <th>Minnesota</th>\n",
              "      <td>13.0</td>\n",
              "      <td>64.0</td>\n",
              "      <td>12.0</td>\n",
              "    </tr>\n",
              "    <tr>\n",
              "      <th>Mississippi</th>\n",
              "      <td>9.0</td>\n",
              "      <td>33.0</td>\n",
              "      <td>11.0</td>\n",
              "    </tr>\n",
              "    <tr>\n",
              "      <th>Missouri</th>\n",
              "      <td>11.0</td>\n",
              "      <td>43.0</td>\n",
              "      <td>12.0</td>\n",
              "    </tr>\n",
              "    <tr>\n",
              "      <th>Montana</th>\n",
              "      <td>1.0</td>\n",
              "      <td>10.0</td>\n",
              "      <td>4.0</td>\n",
              "    </tr>\n",
              "    <tr>\n",
              "      <th>Nebraska</th>\n",
              "      <td>4.0</td>\n",
              "      <td>26.0</td>\n",
              "      <td>8.0</td>\n",
              "    </tr>\n",
              "    <tr>\n",
              "      <th>Nevada</th>\n",
              "      <td>9.0</td>\n",
              "      <td>24.0</td>\n",
              "      <td>6.0</td>\n",
              "    </tr>\n",
              "    <tr>\n",
              "      <th>New Hampshire</th>\n",
              "      <td>6.0</td>\n",
              "      <td>16.0</td>\n",
              "      <td>5.0</td>\n",
              "    </tr>\n",
              "    <tr>\n",
              "      <th>New Jersey</th>\n",
              "      <td>26.0</td>\n",
              "      <td>83.0</td>\n",
              "      <td>21.0</td>\n",
              "    </tr>\n",
              "    <tr>\n",
              "      <th>New Mexico</th>\n",
              "      <td>4.0</td>\n",
              "      <td>24.0</td>\n",
              "      <td>9.0</td>\n",
              "    </tr>\n",
              "    <tr>\n",
              "      <th>New York</th>\n",
              "      <td>236.0</td>\n",
              "      <td>684.0</td>\n",
              "      <td>208.0</td>\n",
              "    </tr>\n",
              "    <tr>\n",
              "      <th>North Carolina</th>\n",
              "      <td>42.0</td>\n",
              "      <td>156.0</td>\n",
              "      <td>51.0</td>\n",
              "    </tr>\n",
              "    <tr>\n",
              "      <th>North Dakota</th>\n",
              "      <td>NaN</td>\n",
              "      <td>7.0</td>\n",
              "      <td>NaN</td>\n",
              "    </tr>\n",
              "    <tr>\n",
              "      <th>Ohio</th>\n",
              "      <td>93.0</td>\n",
              "      <td>274.0</td>\n",
              "      <td>102.0</td>\n",
              "    </tr>\n",
              "    <tr>\n",
              "      <th>Oklahoma</th>\n",
              "      <td>15.0</td>\n",
              "      <td>37.0</td>\n",
              "      <td>14.0</td>\n",
              "    </tr>\n",
              "    <tr>\n",
              "      <th>Oregon</th>\n",
              "      <td>21.0</td>\n",
              "      <td>76.0</td>\n",
              "      <td>27.0</td>\n",
              "    </tr>\n",
              "    <tr>\n",
              "      <th>Pennsylvania</th>\n",
              "      <td>125.0</td>\n",
              "      <td>343.0</td>\n",
              "      <td>119.0</td>\n",
              "    </tr>\n",
              "    <tr>\n",
              "      <th>Rhode Island</th>\n",
              "      <td>16.0</td>\n",
              "      <td>31.0</td>\n",
              "      <td>9.0</td>\n",
              "    </tr>\n",
              "    <tr>\n",
              "      <th>South Carolina</th>\n",
              "      <td>6.0</td>\n",
              "      <td>30.0</td>\n",
              "      <td>6.0</td>\n",
              "    </tr>\n",
              "    <tr>\n",
              "      <th>South Dakota</th>\n",
              "      <td>2.0</td>\n",
              "      <td>8.0</td>\n",
              "      <td>2.0</td>\n",
              "    </tr>\n",
              "    <tr>\n",
              "      <th>Tennessee</th>\n",
              "      <td>45.0</td>\n",
              "      <td>118.0</td>\n",
              "      <td>20.0</td>\n",
              "    </tr>\n",
              "    <tr>\n",
              "      <th>Texas</th>\n",
              "      <td>202.0</td>\n",
              "      <td>604.0</td>\n",
              "      <td>179.0</td>\n",
              "    </tr>\n",
              "    <tr>\n",
              "      <th>Utah</th>\n",
              "      <td>7.0</td>\n",
              "      <td>39.0</td>\n",
              "      <td>7.0</td>\n",
              "    </tr>\n",
              "    <tr>\n",
              "      <th>Vermont</th>\n",
              "      <td>2.0</td>\n",
              "      <td>6.0</td>\n",
              "      <td>3.0</td>\n",
              "    </tr>\n",
              "    <tr>\n",
              "      <th>Virginia</th>\n",
              "      <td>52.0</td>\n",
              "      <td>136.0</td>\n",
              "      <td>36.0</td>\n",
              "    </tr>\n",
              "    <tr>\n",
              "      <th>Washington</th>\n",
              "      <td>114.0</td>\n",
              "      <td>292.0</td>\n",
              "      <td>100.0</td>\n",
              "    </tr>\n",
              "    <tr>\n",
              "      <th>West Virginia</th>\n",
              "      <td>1.0</td>\n",
              "      <td>3.0</td>\n",
              "      <td>NaN</td>\n",
              "    </tr>\n",
              "    <tr>\n",
              "      <th>Wisconsin</th>\n",
              "      <td>32.0</td>\n",
              "      <td>53.0</td>\n",
              "      <td>25.0</td>\n",
              "    </tr>\n",
              "    <tr>\n",
              "      <th>Wyoming</th>\n",
              "      <td>1.0</td>\n",
              "      <td>NaN</td>\n",
              "      <td>NaN</td>\n",
              "    </tr>\n",
              "  </tbody>\n",
              "</table>\n",
              "</div>"
            ],
            "text/plain": [
              "Category              Furniture  Office Supplies  Technology\n",
              "State                                                       \n",
              "Alabama                    11.0             36.0        14.0\n",
              "Arizona                    49.0            127.0        48.0\n",
              "Arkansas                    9.0             36.0        15.0\n",
              "California                444.0           1198.0       359.0\n",
              "Colorado                   51.0             96.0        35.0\n",
              "Connecticut                13.0             58.0        11.0\n",
              "Delaware                   18.0             58.0        20.0\n",
              "District of Columbia        3.0              6.0         1.0\n",
              "Florida                    85.0            229.0        69.0\n",
              "Georgia                    32.0            115.0        37.0\n",
              "Idaho                       6.0             11.0         4.0\n",
              "Illinois                  123.0            285.0        84.0\n",
              "Indiana                    23.0             97.0        29.0\n",
              "Iowa                        4.0             22.0         4.0\n",
              "Kansas                      2.0             17.0         5.0\n",
              "Kentucky                   30.0             86.0        23.0\n",
              "Louisiana                  11.0             20.0        11.0\n",
              "Maine                       1.0              4.0         3.0\n",
              "Maryland                   28.0             63.0        14.0\n",
              "Massachusetts              33.0             83.0        19.0\n",
              "Michigan                   50.0            159.0        46.0\n",
              "Minnesota                  13.0             64.0        12.0\n",
              "Mississippi                 9.0             33.0        11.0\n",
              "Missouri                   11.0             43.0        12.0\n",
              "Montana                     1.0             10.0         4.0\n",
              "Nebraska                    4.0             26.0         8.0\n",
              "Nevada                      9.0             24.0         6.0\n",
              "New Hampshire               6.0             16.0         5.0\n",
              "New Jersey                 26.0             83.0        21.0\n",
              "New Mexico                  4.0             24.0         9.0\n",
              "New York                  236.0            684.0       208.0\n",
              "North Carolina             42.0            156.0        51.0\n",
              "North Dakota                NaN              7.0         NaN\n",
              "Ohio                       93.0            274.0       102.0\n",
              "Oklahoma                   15.0             37.0        14.0\n",
              "Oregon                     21.0             76.0        27.0\n",
              "Pennsylvania              125.0            343.0       119.0\n",
              "Rhode Island               16.0             31.0         9.0\n",
              "South Carolina              6.0             30.0         6.0\n",
              "South Dakota                2.0              8.0         2.0\n",
              "Tennessee                  45.0            118.0        20.0\n",
              "Texas                     202.0            604.0       179.0\n",
              "Utah                        7.0             39.0         7.0\n",
              "Vermont                     2.0              6.0         3.0\n",
              "Virginia                   52.0            136.0        36.0\n",
              "Washington                114.0            292.0       100.0\n",
              "West Virginia               1.0              3.0         NaN\n",
              "Wisconsin                  32.0             53.0        25.0\n",
              "Wyoming                     1.0              NaN         NaN"
            ]
          },
          "metadata": {
            "tags": []
          },
          "execution_count": 220
        }
      ]
    }
  ]
}